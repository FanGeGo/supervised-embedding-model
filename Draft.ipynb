{
 "cells": [
  {
   "cell_type": "code",
   "execution_count": 1,
   "metadata": {
    "collapsed": true,
    "deletable": true,
    "editable": true
   },
   "outputs": [],
   "source": [
    "import random\n",
    "import numpy as np\n",
    "\n",
    "\n",
    "def score(context, response):\n",
    "    return random.random()\n",
    "\n",
    "\n",
    "def best_response(context, candidates):\n",
    "    index = np.argmax([score(context, response) for response in candidates])\n",
    "    return candidates[index]\n",
    "\n",
    "\n",
    "def parse_dialogs(filename):\n",
    "    dialogs = []\n",
    "    with open(filename, 'r') as f:\n",
    "        dialog = []\n",
    "        for line in f:\n",
    "            if line.strip() == '':\n",
    "                dialogs.append(dialog)\n",
    "                dialog = []\n",
    "            else:\n",
    "                user_utt, bot_utt = line.strip().split('\\t')\n",
    "                utt_num = user_utt.split(' ')[0]\n",
    "                user_utt = ' '.join(user_utt.split(' ')[1:])\n",
    "                dialog.append((utt_num, user_utt, bot_utt))\n",
    "    return dialogs\n",
    "\n",
    "\n",
    "def parse_candidates(filename):\n",
    "    with open(filename, 'r') as f:\n",
    "        return [' '.join(line.strip().split(' ')[1:]) for line in f]            \n",
    "\n",
    "    \n",
    "def responses_accuracy(dialogs, candidates):\n",
    "    correct = 0\n",
    "    count = 0\n",
    "    for dialog in dialogs:\n",
    "        for _, user_utt, bot_utt in dialog:\n",
    "            count += 1\n",
    "            context = user_utt\n",
    "            response = best_response(context, candidates)\n",
    "            if response == bot_utt:\n",
    "                correct += 1\n",
    "    return correct / count, correct, count"
   ]
  },
  {
   "cell_type": "code",
   "execution_count": 2,
   "metadata": {
    "collapsed": true,
    "deletable": true,
    "editable": true
   },
   "outputs": [],
   "source": [
    "dev_set_task1_dialogs = parse_dialogs('dataset/dialog-bAbI-tasks/dialog-babi-task1-API-calls-dev.txt')\n",
    "candidates = parse_candidates('dataset/dialog-bAbI-tasks/dialog-babi-candidates.txt')"
   ]
  },
  {
   "cell_type": "code",
   "execution_count": 3,
   "metadata": {
    "collapsed": false,
    "deletable": true,
    "editable": true
   },
   "outputs": [
    {
     "data": {
      "text/plain": [
       "(0.00016625103906899418, 1, 6015)"
      ]
     },
     "execution_count": 3,
     "metadata": {},
     "output_type": "execute_result"
    }
   ],
   "source": [
    "responses_accuracy(dev_set_task1_dialogs, candidates)"
   ]
  },
  {
   "cell_type": "markdown",
   "metadata": {
    "deletable": true,
    "editable": true
   },
   "source": [
    "`f(x,y) = (Ax)^T*By`, `A, B <- {DxV}, x <- V, y <- V`\n",
    "\n",
    "1. Надо инциализировать все переменные"
   ]
  },
  {
   "cell_type": "code",
   "execution_count": 21,
   "metadata": {
    "collapsed": false,
    "deletable": true,
    "editable": true
   },
   "outputs": [
    {
     "data": {
      "text/plain": [
       "((100, 1), (100, 1), (20, 100))"
      ]
     },
     "execution_count": 21,
     "metadata": {},
     "output_type": "execute_result"
    }
   ],
   "source": [
    "V = 100\n",
    "D = 20\n",
    "\n",
    "x = np.random.choice([0, 1], size=(V,1), p=(9/10, 1/10))\n",
    "y = np.random.choice([0, 1], size=(V,1), p=(9/10, 1/10))\n",
    "y_neg = np.random.choice([0, 1], size=(V,1), p=(9/10, 1/10))\n",
    "A = np.random.randn(D, V)\n",
    "\n",
    "x.shape, y.shape, A.shape"
   ]
  },
  {
   "cell_type": "code",
   "execution_count": 5,
   "metadata": {
    "collapsed": true,
    "deletable": true,
    "editable": true
   },
   "outputs": [],
   "source": [
    "import tensorflow as tf"
   ]
  },
  {
   "cell_type": "code",
   "execution_count": 14,
   "metadata": {
    "collapsed": false,
    "deletable": true,
    "editable": true
   },
   "outputs": [],
   "source": [
    "context = tf.placeholder(dtype=tf.float32, name='Context', shape=[V, 1])\n",
    "neg_context = tf.placeholder(dtype=tf.float32, name='NegativeContext', shape=[V, 1])\n",
    "response = tf.placeholder(dtype=tf.float32, name='Response', shape=[V, 1])\n",
    "A_var = tf.Variable(tf.random_uniform([D, V], -1.0, 1.0))\n",
    "B_var = tf.Variable(tf.random_uniform([D, V], -1.0, 1.0))"
   ]
  },
  {
   "cell_type": "code",
   "execution_count": 15,
   "metadata": {
    "collapsed": false,
    "deletable": true,
    "editable": true
   },
   "outputs": [],
   "source": [
    "f_pos = tf.matmul(tf.transpose(tf.matmul(A_var, context)), tf.matmul(B_var, response))\n",
    "f_neg = tf.matmul(tf.transpose(tf.matmul(A_var, neg_context)), tf.matmul(B_var, response))"
   ]
  },
  {
   "cell_type": "code",
   "execution_count": 16,
   "metadata": {
    "collapsed": true
   },
   "outputs": [],
   "source": [
    "m = 0.01\n",
    "loss = f_pos - f_neg + m"
   ]
  },
  {
   "cell_type": "code",
   "execution_count": 17,
   "metadata": {
    "collapsed": true
   },
   "outputs": [],
   "source": [
    "LR = 0.01\n",
    "optimizer = tf.train.GradientDescentOptimizer(LR).minimize(loss)"
   ]
  },
  {
   "cell_type": "code",
   "execution_count": 29,
   "metadata": {
    "collapsed": false
   },
   "outputs": [
    {
     "name": "stderr",
     "output_type": "stream",
     "text": [
      "/usr/local/var/pyenv/versions/3.6.0/lib/python3.6/site-packages/ipykernel/__main__.py:8: RuntimeWarning: divide by zero encountered in true_divide\n",
      "/usr/local/var/pyenv/versions/3.6.0/lib/python3.6/site-packages/ipykernel/__main__.py:6: RuntimeWarning: overflow encountered in add\n"
     ]
    },
    {
     "name": "stdout",
     "output_type": "stream",
     "text": [
      "[ 15.25640297] [ inf]\n",
      "[ -5.13647638e+13] [ -2.12560747e+12]\n",
      "[ -5.29116354e+25] [ -1.09481037e+24]\n",
      "[ -5.45050714e+37] [ -7.51853950e+35]\n",
      "[-inf] [-inf]\n",
      "[-inf] [-inf]\n",
      "[-inf] [-inf]\n",
      "[ nan] [ nan]\n",
      "[ nan] [ nan]\n",
      "[ nan] [ nan]\n"
     ]
    }
   ],
   "source": [
    "with tf.Session() as sess:\n",
    "    sess.run(tf.global_variables_initializer())\n",
    "    avg_loss = 0.0\n",
    "    for ind in range(1000):\n",
    "        loss_elem = sess.run([loss, optimizer], feed_dict={context: y, response: x, neg_context: y_neg})\n",
    "        avg_loss += loss_elem[0][0]\n",
    "        if ind % 100 == 0 :\n",
    "            print(loss_elem[0][0], avg_loss / ind)"
   ]
  },
  {
   "cell_type": "code",
   "execution_count": 8,
   "metadata": {
    "collapsed": true
   },
   "outputs": [],
   "source": [
    "def ranking_margin_objective(output, margin=1.0):\n",
    "    ''' Create final model output and loss for pairwise ranking margin objective\n",
    "        \n",
    "    Loss for single pair (f(p), f(n)) = [margin - f(p) + f(n)]+\n",
    "    This only works when given model output on alternating positive/negative \n",
    "    pairs: [pos,neg,pos,neg,...]. TODO: check target placeholder\n",
    "    at runtime to make sure this is the case?\n",
    "        \n",
    "    Args:\n",
    "        output: Model output\n",
    "        margin: The margin value for the pairwise hinge loss\n",
    "    Returns:\n",
    "        tuple (final output, loss)\n",
    "    '''\n",
    "    y_pairs = tf.reshape(output, [-1,2]) # fold: 1 x n -> [n/2 x 2]\n",
    "    pos_scores, neg_scores = tf.split(1, 2, y_pairs) # separate pairs\n",
    "    hinge_losses = tf.nn.relu(margin - pos_scores + neg_scores)\n",
    "    total_hinge_loss = tf.reduce_sum(hinge_losses)\n",
    "    return output, total_hinge_loss"
   ]
  }
 ],
 "metadata": {
  "kernelspec": {
   "display_name": "Python 3",
   "language": "python",
   "name": "python3"
  },
  "language_info": {
   "codemirror_mode": {
    "name": "ipython",
    "version": 3
   },
   "file_extension": ".py",
   "mimetype": "text/x-python",
   "name": "python",
   "nbconvert_exporter": "python",
   "pygments_lexer": "ipython3",
   "version": "3.6.0"
  }
 },
 "nbformat": 4,
 "nbformat_minor": 2
}
