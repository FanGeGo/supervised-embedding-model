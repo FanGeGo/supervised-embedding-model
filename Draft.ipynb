{
 "cells": [
  {
   "cell_type": "code",
   "execution_count": 37,
   "metadata": {
    "collapsed": true
   },
   "outputs": [],
   "source": [
    "import random\n",
    "import numpy as np\n",
    "\n",
    "\n",
    "def score(context, response):\n",
    "    return random.random()\n",
    "\n",
    "\n",
    "def best_response(context, candidates):\n",
    "    index = np.argmax([score(context, response) for response in candidates])\n",
    "    return candidates[index]\n",
    "\n",
    "\n",
    "def parse_dialogs(filename):\n",
    "    dialogs = []\n",
    "    with open(filename, 'r') as f:\n",
    "        dialog = []\n",
    "        for line in f:\n",
    "            if line.strip() == '':\n",
    "                dialogs.append(dialog)\n",
    "                dialog = []\n",
    "            else:\n",
    "                user_utt, bot_utt = line.strip().split('\\t')\n",
    "                utt_num = user_utt.split(' ')[0]\n",
    "                user_utt = ' '.join(user_utt.split(' ')[1:])\n",
    "                dialog.append((utt_num, user_utt, bot_utt))\n",
    "    return dialogs\n",
    "\n",
    "\n",
    "def parse_candidates(filename):\n",
    "    with open(filename, 'r') as f:\n",
    "        return [' '.join(line.strip().split(' ')[1:]) for line in f]            \n",
    "\n",
    "    \n",
    "def responses_accuracy(dialogs, candidates):\n",
    "    correct = 0\n",
    "    count = 0\n",
    "    for dialog in dialogs:\n",
    "        for _, user_utt, bot_utt in dialog:\n",
    "            count += 1\n",
    "            context = user_utt\n",
    "            response = best_response(context, candidates)\n",
    "            if response == bot_utt:\n",
    "                correct += 1\n",
    "    return correct / count, correct, count"
   ]
  },
  {
   "cell_type": "code",
   "execution_count": 38,
   "metadata": {
    "collapsed": true
   },
   "outputs": [],
   "source": [
    "dev_set_task1_dialogs = parse_dialogs('dataset/dialog-bAbI-tasks/dialog-babi-task1-API-calls-dev.txt')\n",
    "candidates = parse_candidates('dataset/dialog-bAbI-tasks/dialog-babi-candidates.txt')"
   ]
  },
  {
   "cell_type": "code",
   "execution_count": 39,
   "metadata": {
    "collapsed": false
   },
   "outputs": [
    {
     "data": {
      "text/plain": [
       "(0.00033250207813798836, 2, 6015)"
      ]
     },
     "execution_count": 39,
     "metadata": {},
     "output_type": "execute_result"
    }
   ],
   "source": [
    "responses_accuracy(dev_set_task1_dialogs, candidates)"
   ]
  }
 ],
 "metadata": {
  "kernelspec": {
   "display_name": "Python 3",
   "language": "python",
   "name": "python3"
  },
  "language_info": {
   "codemirror_mode": {
    "name": "ipython",
    "version": 3
   },
   "file_extension": ".py",
   "mimetype": "text/x-python",
   "name": "python",
   "nbconvert_exporter": "python",
   "pygments_lexer": "ipython3",
   "version": "3.6.0"
  }
 },
 "nbformat": 4,
 "nbformat_minor": 2
}
